{
  "nbformat": 4,
  "nbformat_minor": 0,
  "metadata": {
    "colab": {
      "name": "FLIPR 5.0-Task 1.ipynb",
      "provenance": [],
      "toc_visible": true
    },
    "kernelspec": {
      "name": "python3",
      "display_name": "Python 3"
    }
  },
  "cells": [
    {
      "cell_type": "markdown",
      "metadata": {
        "id": "szslY9EsdkQ7",
        "colab_type": "text"
      },
      "source": [
        "# **Stock-price prediction**"
      ]
    },
    {
      "cell_type": "code",
      "metadata": {
        "id": "7lqArh-6r2xb",
        "colab_type": "code",
        "colab": {
          "base_uri": "https://localhost:8080/",
          "height": 72
        },
        "outputId": "d56383d4-40a2-4985-a4b3-9fd8b632d3a9"
      },
      "source": [
        "# Necessary imports\n",
        "\n",
        "import pandas as pd\n",
        "import numpy as np\n",
        "import seaborn as sns; sns.set()\n",
        "import matplotlib.pyplot as plt\n",
        "from sklearn import preprocessing\n",
        "from sklearn.ensemble import RandomForestRegressor\n",
        "from lightgbm import LGBMRegressor\n",
        "from sklearn.model_selection import train_test_split\n",
        "from sklearn.metrics import r2_score\n",
        "import warnings\n",
        "\n",
        "warnings.filterwarnings('ignore')\n",
        "\n",
        "import random\n",
        "np.random.seed(123)"
      ],
      "execution_count": 1,
      "outputs": [
        {
          "output_type": "stream",
          "text": [
            "/usr/local/lib/python3.6/dist-packages/statsmodels/tools/_testing.py:19: FutureWarning: pandas.util.testing is deprecated. Use the functions in the public API at pandas.testing instead.\n",
            "  import pandas.util.testing as tm\n"
          ],
          "name": "stderr"
        }
      ]
    },
    {
      "cell_type": "code",
      "metadata": {
        "id": "17fNp4iisDqq",
        "colab_type": "code",
        "colab": {
          "base_uri": "https://localhost:8080/",
          "height": 326
        },
        "outputId": "741f3718-e8b8-4689-bebc-56ae5e0115e8"
      },
      "source": [
        "df_train = pd.read_csv('Train_dataset.csv')\n",
        "df_test = pd.read_csv('Test_dataset1.csv')\n",
        "\n",
        "df_train.head()"
      ],
      "execution_count": 2,
      "outputs": [
        {
          "output_type": "execute_result",
          "data": {
            "text/html": [
              "<div>\n",
              "<style scoped>\n",
              "    .dataframe tbody tr th:only-of-type {\n",
              "        vertical-align: middle;\n",
              "    }\n",
              "\n",
              "    .dataframe tbody tr th {\n",
              "        vertical-align: top;\n",
              "    }\n",
              "\n",
              "    .dataframe thead th {\n",
              "        text-align: right;\n",
              "    }\n",
              "</style>\n",
              "<table border=\"1\" class=\"dataframe\">\n",
              "  <thead>\n",
              "    <tr style=\"text-align: right;\">\n",
              "      <th></th>\n",
              "      <th>Stock Index</th>\n",
              "      <th>Index</th>\n",
              "      <th>Industry</th>\n",
              "      <th>VWAP</th>\n",
              "      <th>General Index</th>\n",
              "      <th>NAV</th>\n",
              "      <th>P/E Ratio</th>\n",
              "      <th>Volumes Traded</th>\n",
              "      <th>Inventory Turnover</th>\n",
              "      <th>Covid Impact (Beta)</th>\n",
              "      <th>Tracking Error</th>\n",
              "      <th>Dollar Exchange Rate</th>\n",
              "      <th>Put-Call Ratio</th>\n",
              "      <th>P/B Ratio</th>\n",
              "      <th>Stock Price</th>\n",
              "    </tr>\n",
              "  </thead>\n",
              "  <tbody>\n",
              "    <tr>\n",
              "      <th>0</th>\n",
              "      <td>AA1</td>\n",
              "      <td>NYSE</td>\n",
              "      <td>Real Estate</td>\n",
              "      <td>700.29</td>\n",
              "      <td>12765.84</td>\n",
              "      <td>32.38</td>\n",
              "      <td>45.35</td>\n",
              "      <td>1208599.0</td>\n",
              "      <td>5.05</td>\n",
              "      <td>-0.43</td>\n",
              "      <td>0.0520</td>\n",
              "      <td>1.0</td>\n",
              "      <td>0.61</td>\n",
              "      <td>9.20</td>\n",
              "      <td>156.987851</td>\n",
              "    </tr>\n",
              "    <tr>\n",
              "      <th>1</th>\n",
              "      <td>AA2</td>\n",
              "      <td>NYSE</td>\n",
              "      <td>Information Tech</td>\n",
              "      <td>214.52</td>\n",
              "      <td>12765.84</td>\n",
              "      <td>33.25</td>\n",
              "      <td>170.56</td>\n",
              "      <td>13753356.0</td>\n",
              "      <td>3.10</td>\n",
              "      <td>0.23</td>\n",
              "      <td>0.0164</td>\n",
              "      <td>1.0</td>\n",
              "      <td>NaN</td>\n",
              "      <td>6.91</td>\n",
              "      <td>560.859622</td>\n",
              "    </tr>\n",
              "    <tr>\n",
              "      <th>2</th>\n",
              "      <td>AA3</td>\n",
              "      <td>NYSE</td>\n",
              "      <td>Information Tech</td>\n",
              "      <td>943.42</td>\n",
              "      <td>12765.84</td>\n",
              "      <td>88.27</td>\n",
              "      <td>143.58</td>\n",
              "      <td>6892003.0</td>\n",
              "      <td>7.70</td>\n",
              "      <td>0.23</td>\n",
              "      <td>0.0396</td>\n",
              "      <td>1.0</td>\n",
              "      <td>NaN</td>\n",
              "      <td>6.09</td>\n",
              "      <td>1279.732874</td>\n",
              "    </tr>\n",
              "    <tr>\n",
              "      <th>3</th>\n",
              "      <td>AA4</td>\n",
              "      <td>BSE</td>\n",
              "      <td>Materials</td>\n",
              "      <td>828.13</td>\n",
              "      <td>38182.08</td>\n",
              "      <td>73.66</td>\n",
              "      <td>151.76</td>\n",
              "      <td>8316793.0</td>\n",
              "      <td>4.80</td>\n",
              "      <td>0.03</td>\n",
              "      <td>0.0431</td>\n",
              "      <td>74.9</td>\n",
              "      <td>1.11</td>\n",
              "      <td>5.60</td>\n",
              "      <td>1121.787632</td>\n",
              "    </tr>\n",
              "    <tr>\n",
              "      <th>4</th>\n",
              "      <td>AA5</td>\n",
              "      <td>S&amp;P 500</td>\n",
              "      <td>Real Estate</td>\n",
              "      <td>NaN</td>\n",
              "      <td>3351.28</td>\n",
              "      <td>23.79</td>\n",
              "      <td>NaN</td>\n",
              "      <td>3943312.0</td>\n",
              "      <td>8.06</td>\n",
              "      <td>-0.43</td>\n",
              "      <td>0.0244</td>\n",
              "      <td>1.0</td>\n",
              "      <td>1.07</td>\n",
              "      <td>9.46</td>\n",
              "      <td>382.962534</td>\n",
              "    </tr>\n",
              "  </tbody>\n",
              "</table>\n",
              "</div>"
            ],
            "text/plain": [
              "  Stock Index    Index  ... P/B Ratio  Stock Price\n",
              "0         AA1     NYSE  ...      9.20   156.987851\n",
              "1         AA2     NYSE  ...      6.91   560.859622\n",
              "2         AA3     NYSE  ...      6.09  1279.732874\n",
              "3         AA4      BSE  ...      5.60  1121.787632\n",
              "4         AA5  S&P 500  ...      9.46   382.962534\n",
              "\n",
              "[5 rows x 15 columns]"
            ]
          },
          "metadata": {
            "tags": []
          },
          "execution_count": 2
        }
      ]
    },
    {
      "cell_type": "code",
      "metadata": {
        "id": "xy4JZ_QZsFOc",
        "colab_type": "code",
        "colab": {}
      },
      "source": [
        "X_train = df_train.drop(columns = ['Stock Index', 'Stock Price'])\n",
        "y = df_train['Stock Price']\n",
        "\n",
        "X_test = df_test.drop(columns = ['Stock Index'])"
      ],
      "execution_count": 3,
      "outputs": []
    },
    {
      "cell_type": "code",
      "metadata": {
        "id": "hIInSvlVt-wj",
        "colab_type": "code",
        "colab": {}
      },
      "source": [
        "# Custom function to impute the null-values\n",
        "\n",
        "def null_value_imputation(X):\n",
        "    columns = X.columns\n",
        "    for i in columns:\n",
        "        if X[i].dtypes == 'O':\n",
        "          X[i].fillna(X[i].mode()[0], inplace = True)\n",
        "        elif X[i].dtypes == 'float64':\n",
        "          X[i].fillna(X[i].mean(), inplace = True)\n",
        "        elif X[i].dtypes == 'int64':\n",
        "          X[i].fillna(X[i].mean(), inplace = True)  \n",
        "        else:\n",
        "            pass\n",
        "    return X\n",
        "\n",
        "X_train = null_value_imputation(X_train)\n",
        "X_test = null_value_imputation(X_test)\n",
        "\n",
        "X = pd.concat([X_train, X_test])"
      ],
      "execution_count": 4,
      "outputs": []
    },
    {
      "cell_type": "code",
      "metadata": {
        "id": "hWLdAYIetE5D",
        "colab_type": "code",
        "colab": {}
      },
      "source": [
        "# Function to Label Encode the categorical features\n",
        "\n",
        "def Encoding(X):\n",
        "  columns = X.columns\n",
        "  for i in columns:\n",
        "    if X[i].dtypes == 'O':\n",
        "      le = preprocessing.LabelEncoder()\n",
        "      le.fit(X[i])\n",
        "      X[i] = le.transform(X[i])\n",
        "    else:\n",
        "      pass\n",
        "  return X\n",
        "\n",
        "X = Encoding(X)"
      ],
      "execution_count": 5,
      "outputs": []
    },
    {
      "cell_type": "code",
      "metadata": {
        "id": "xBwZxhiVxPgG",
        "colab_type": "code",
        "colab": {
          "base_uri": "https://localhost:8080/",
          "height": 929
        },
        "outputId": "f544a057-1683-4bed-94fb-8d34fb7a3472"
      },
      "source": [
        "# Feature generation and rendundancy eradication using the correlation heatmap\n",
        "\n",
        "X['Overall Index'] = round(X['Index'] + X['General Index'])\n",
        "X = X.drop(columns = ['Index', 'General Index'])\n",
        "\n",
        "X['Industry_beta'] = round(X['Industry'] + X['Covid Impact (Beta)'])\n",
        "X = X.drop(columns = ['Industry', 'Covid Impact (Beta)'])\n",
        "\n",
        "fig, ax = plt.subplots(figsize=(15,15))\n",
        "sns.heatmap(X.corr(), annot = True, ax = ax)"
      ],
      "execution_count": 6,
      "outputs": [
        {
          "output_type": "execute_result",
          "data": {
            "text/plain": [
              "<matplotlib.axes._subplots.AxesSubplot at 0x7f58b9b96a90>"
            ]
          },
          "metadata": {
            "tags": []
          },
          "execution_count": 6
        },
        {
          "output_type": "display_data",
          "data": {
            "image/png": "[encoded data removed]",
            "text/plain": [
              "<Figure size 1080x1080 with 2 Axes>"
            ]
          },
          "metadata": {
            "tags": [],
            "needs_background": "light"
          }
        }
      ]
    },
    {
      "cell_type": "code",
      "metadata": {
        "id": "20iVmP23swez",
        "colab_type": "code",
        "colab": {}
      },
      "source": [
        "X_train = X[:df_train.shape[0]]\n",
        "X_test = X[df_train.shape[0]:X.shape[0]]"
      ],
      "execution_count": 7,
      "outputs": []
    },
    {
      "cell_type": "code",
      "metadata": {
        "id": "j5qFI-you1wO",
        "colab_type": "code",
        "colab": {
          "base_uri": "https://localhost:8080/",
          "height": 257
        },
        "outputId": "c68cd78f-de0a-4a3c-a02a-34c7c963ebb6"
      },
      "source": [
        "X_train.head()"
      ],
      "execution_count": 8,
      "outputs": [
        {
          "output_type": "execute_result",
          "data": {
            "text/html": [
              "<div>\n",
              "<style scoped>\n",
              "    .dataframe tbody tr th:only-of-type {\n",
              "        vertical-align: middle;\n",
              "    }\n",
              "\n",
              "    .dataframe tbody tr th {\n",
              "        vertical-align: top;\n",
              "    }\n",
              "\n",
              "    .dataframe thead th {\n",
              "        text-align: right;\n",
              "    }\n",
              "</style>\n",
              "<table border=\"1\" class=\"dataframe\">\n",
              "  <thead>\n",
              "    <tr style=\"text-align: right;\">\n",
              "      <th></th>\n",
              "      <th>VWAP</th>\n",
              "      <th>NAV</th>\n",
              "      <th>P/E Ratio</th>\n",
              "      <th>Volumes Traded</th>\n",
              "      <th>Inventory Turnover</th>\n",
              "      <th>Tracking Error</th>\n",
              "      <th>Dollar Exchange Rate</th>\n",
              "      <th>Put-Call Ratio</th>\n",
              "      <th>P/B Ratio</th>\n",
              "      <th>Overall Index</th>\n",
              "      <th>Industry_beta</th>\n",
              "    </tr>\n",
              "  </thead>\n",
              "  <tbody>\n",
              "    <tr>\n",
              "      <th>0</th>\n",
              "      <td>700.290000</td>\n",
              "      <td>32.38</td>\n",
              "      <td>45.350000</td>\n",
              "      <td>1208599.0</td>\n",
              "      <td>5.05</td>\n",
              "      <td>0.0520</td>\n",
              "      <td>1.0</td>\n",
              "      <td>0.610000</td>\n",
              "      <td>9.20</td>\n",
              "      <td>12769.0</td>\n",
              "      <td>4.0</td>\n",
              "    </tr>\n",
              "    <tr>\n",
              "      <th>1</th>\n",
              "      <td>214.520000</td>\n",
              "      <td>33.25</td>\n",
              "      <td>170.560000</td>\n",
              "      <td>13753356.0</td>\n",
              "      <td>3.10</td>\n",
              "      <td>0.0164</td>\n",
              "      <td>1.0</td>\n",
              "      <td>0.944722</td>\n",
              "      <td>6.91</td>\n",
              "      <td>12769.0</td>\n",
              "      <td>2.0</td>\n",
              "    </tr>\n",
              "    <tr>\n",
              "      <th>2</th>\n",
              "      <td>943.420000</td>\n",
              "      <td>88.27</td>\n",
              "      <td>143.580000</td>\n",
              "      <td>6892003.0</td>\n",
              "      <td>7.70</td>\n",
              "      <td>0.0396</td>\n",
              "      <td>1.0</td>\n",
              "      <td>0.944722</td>\n",
              "      <td>6.09</td>\n",
              "      <td>12769.0</td>\n",
              "      <td>2.0</td>\n",
              "    </tr>\n",
              "    <tr>\n",
              "      <th>3</th>\n",
              "      <td>828.130000</td>\n",
              "      <td>73.66</td>\n",
              "      <td>151.760000</td>\n",
              "      <td>8316793.0</td>\n",
              "      <td>4.80</td>\n",
              "      <td>0.0431</td>\n",
              "      <td>74.9</td>\n",
              "      <td>1.110000</td>\n",
              "      <td>5.60</td>\n",
              "      <td>38182.0</td>\n",
              "      <td>3.0</td>\n",
              "    </tr>\n",
              "    <tr>\n",
              "      <th>4</th>\n",
              "      <td>486.188167</td>\n",
              "      <td>23.79</td>\n",
              "      <td>105.543623</td>\n",
              "      <td>3943312.0</td>\n",
              "      <td>8.06</td>\n",
              "      <td>0.0244</td>\n",
              "      <td>1.0</td>\n",
              "      <td>1.070000</td>\n",
              "      <td>9.46</td>\n",
              "      <td>3355.0</td>\n",
              "      <td>4.0</td>\n",
              "    </tr>\n",
              "  </tbody>\n",
              "</table>\n",
              "</div>"
            ],
            "text/plain": [
              "         VWAP    NAV   P/E Ratio  ...  P/B Ratio  Overall Index  Industry_beta\n",
              "0  700.290000  32.38   45.350000  ...       9.20        12769.0            4.0\n",
              "1  214.520000  33.25  170.560000  ...       6.91        12769.0            2.0\n",
              "2  943.420000  88.27  143.580000  ...       6.09        12769.0            2.0\n",
              "3  828.130000  73.66  151.760000  ...       5.60        38182.0            3.0\n",
              "4  486.188167  23.79  105.543623  ...       9.46         3355.0            4.0\n",
              "\n",
              "[5 rows x 11 columns]"
            ]
          },
          "metadata": {
            "tags": []
          },
          "execution_count": 8
        }
      ]
    },
    {
      "cell_type": "code",
      "metadata": {
        "id": "39WPxpr_2AnY",
        "colab_type": "code",
        "colab": {}
      },
      "source": [
        "# Validation\n",
        "\n",
        "# X_train_val, X_test_val, y_train, y_test = train_test_split(X_train, y, test_size=0.33, random_state=42)\n",
        "# lgbm = LGBMRegressor(n_estimators=100, num_leaves = 5)\n",
        "# lgbm.fit(X_train_val, y_train)\n",
        "# y_pred = lgbm.predict(X_test_val)\n",
        "# r2_score(y_test, y_pred)"
      ],
      "execution_count": 9,
      "outputs": []
    },
    {
      "cell_type": "code",
      "metadata": {
        "id": "PfG90YeH7oCY",
        "colab_type": "code",
        "colab": {}
      },
      "source": [
        "# Training and Prediction\n",
        "\n",
        "lgbm = LGBMRegressor(n_estimators=100, num_leaves = 5)\n",
        "lgbm.fit(X_train, y)\n",
        "y_pred = lgbm.predict(X_test)\n",
        "\n",
        "assert(np.sum(y_pred > 0) > 0)"
      ],
      "execution_count": 10,
      "outputs": []
    },
    {
      "cell_type": "code",
      "metadata": {
        "id": "Xsfc_27h_Np6",
        "colab_type": "code",
        "colab": {
          "base_uri": "https://localhost:8080/",
          "height": 202
        },
        "outputId": "f84ce355-6fef-433b-fa9a-ff3efc646454"
      },
      "source": [
        "sub = pd.DataFrame({'Stock Index': df_test['Stock Index'], 'Stock Price': y_pred})\n",
        "sub.head()"
      ],
      "execution_count": 11,
      "outputs": [
        {
          "output_type": "execute_result",
          "data": {
            "text/html": [
              "<div>\n",
              "<style scoped>\n",
              "    .dataframe tbody tr th:only-of-type {\n",
              "        vertical-align: middle;\n",
              "    }\n",
              "\n",
              "    .dataframe tbody tr th {\n",
              "        vertical-align: top;\n",
              "    }\n",
              "\n",
              "    .dataframe thead th {\n",
              "        text-align: right;\n",
              "    }\n",
              "</style>\n",
              "<table border=\"1\" class=\"dataframe\">\n",
              "  <thead>\n",
              "    <tr style=\"text-align: right;\">\n",
              "      <th></th>\n",
              "      <th>Stock Index</th>\n",
              "      <th>Stock Price</th>\n",
              "    </tr>\n",
              "  </thead>\n",
              "  <tbody>\n",
              "    <tr>\n",
              "      <th>0</th>\n",
              "      <td>AC3235</td>\n",
              "      <td>808.865880</td>\n",
              "    </tr>\n",
              "    <tr>\n",
              "      <th>1</th>\n",
              "      <td>AC3236</td>\n",
              "      <td>268.458561</td>\n",
              "    </tr>\n",
              "    <tr>\n",
              "      <th>2</th>\n",
              "      <td>AC3237</td>\n",
              "      <td>1564.237672</td>\n",
              "    </tr>\n",
              "    <tr>\n",
              "      <th>3</th>\n",
              "      <td>AC3238</td>\n",
              "      <td>798.069467</td>\n",
              "    </tr>\n",
              "    <tr>\n",
              "      <th>4</th>\n",
              "      <td>AC3239</td>\n",
              "      <td>259.203764</td>\n",
              "    </tr>\n",
              "  </tbody>\n",
              "</table>\n",
              "</div>"
            ],
            "text/plain": [
              "  Stock Index  Stock Price\n",
              "0      AC3235   808.865880\n",
              "1      AC3236   268.458561\n",
              "2      AC3237  1564.237672\n",
              "3      AC3238   798.069467\n",
              "4      AC3239   259.203764"
            ]
          },
          "metadata": {
            "tags": []
          },
          "execution_count": 11
        }
      ]
    },
    {
      "cell_type": "code",
      "metadata": {
        "id": "yzmIyYupqH5S",
        "colab_type": "code",
        "colab": {}
      },
      "source": [
        "# Submission\n",
        "\n",
        "sub.to_csv('Stock Price (10-Aug).csv', index = False)"
      ],
      "execution_count": 12,
      "outputs": []
    }
  ]
}